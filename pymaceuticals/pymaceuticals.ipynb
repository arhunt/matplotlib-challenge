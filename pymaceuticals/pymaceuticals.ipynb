{
 "cells": [
  {
   "cell_type": "markdown",
   "metadata": {},
   "source": [
    "## Observations and Insights"
   ]
  },
  {
   "cell_type": "markdown",
   "metadata": {},
   "source": [
    "Overall, based on the data from the tests on these mice, Capomulin seems to have a comparable effectiveness to Ramicane and could be advanced by Pymaceuticals as an alternative treatment to Ramicane for SCC.\n",
    "\n",
    "For the equal amount of mice having undergone each treatment, Capomulin and Ramicane have a similar level of success on the mice completing the trials over the 45 day period, based on the similarly high number of data points compared to the other drugs.\n",
    "\n",
    "Throughout the study, both Capomulin and Ramicane have had similarly low values across all measures of central tendencies (mean, median, variance, standard deviation, and standard error), far below all the other drugs.  In terms of mean and median, this means both treatments resulted in lower tumor sizes (and indeed were the only drugs where these values were below the starting value of 45 cubic cm).  In terms of variance, standard deviation, and standard error, this shows the consistency in effectiveness over the treated population.\n",
    "\n",
    "These conclusions are echoed in the analysis of the final tumor volumes for Capomulin and Ramicane vs. Ceftamin and Infubinol.  Capomulin and Ramicane have similarly low IQR and Quartile values, showing again their consistency and their overall effectiveness in reducing the Tumor Volume.\n",
    "\n",
    "The mice treated with Capomulin have tumor sizes that are reliably, positively correlated with their weights."
   ]
  },
  {
   "cell_type": "markdown",
   "metadata": {},
   "source": [
    "### Setup & Data Import"
   ]
  },
  {
   "cell_type": "code",
   "execution_count": 1,
   "metadata": {},
   "outputs": [],
   "source": [
    "# Dependencies and Setup\n",
    "import matplotlib.pyplot as plt\n",
    "import pandas as pd\n",
    "import scipy.stats as st"
   ]
  },
  {
   "cell_type": "code",
   "execution_count": 2,
   "metadata": {},
   "outputs": [],
   "source": [
    "# Study data files\n",
    "mouse_metadata_path = \"data/Mouse_metadata.csv\"\n",
    "study_results_path = \"data/Study_results.csv\"\n",
    "# Read the mouse data and the study results\n",
    "mouse_metadata = pd.read_csv(mouse_metadata_path)\n",
    "study_results = pd.read_csv(study_results_path)"
   ]
  },
  {
   "cell_type": "code",
   "execution_count": 3,
   "metadata": {},
   "outputs": [
    {
     "name": "stdout",
     "output_type": "stream",
     "text": [
      "There are 1893 rows of data.\n"
     ]
    }
   ],
   "source": [
    "# Combine the data into a single dataset\n",
    "mouse_study = pd.merge(mouse_metadata,study_results)\n",
    "print(f\"There are {mouse_study.shape[0]} rows of data.\")"
   ]
  },
  {
   "cell_type": "markdown",
   "metadata": {},
   "source": [
    "### Duplicates Cleanup"
   ]
  },
  {
   "cell_type": "code",
   "execution_count": 4,
   "metadata": {},
   "outputs": [
    {
     "name": "stdout",
     "output_type": "stream",
     "text": [
      "There are data for 249 mice.\n"
     ]
    }
   ],
   "source": [
    "# Checking the number of mice.\n",
    "print(f'There are data for {len(mouse_metadata[\"Mouse ID\"].unique())} mice.')"
   ]
  },
  {
   "cell_type": "code",
   "execution_count": 5,
   "metadata": {},
   "outputs": [
    {
     "name": "stdout",
     "output_type": "stream",
     "text": [
      "Number of duplicate mice: 1\n",
      "Information for duplicate mouse g989 will be scrubbed from the data.\n"
     ]
    }
   ],
   "source": [
    "# Getting the duplicate mice by ID number that shows up for Mouse ID and Timepoint.\n",
    "duplicate_search = mouse_study.groupby([\"Mouse ID\",\"Timepoint\"]).count()\n",
    "duplicate_find = duplicate_search.loc[duplicate_search[\"Drug Regimen\"] > 1]\n",
    "\n",
    "## Create an empty list in which to populate any mice with duplicate information\n",
    "duplicate_mice = []\n",
    "\n",
    "## Iterate through the duplicates if there are any to get the unique list\n",
    "if len(duplicate_find) > 0:\n",
    "    for mouse in duplicate_find.index:\n",
    "        if mouse[0] not in duplicate_mice:\n",
    "            duplicate_mice.append(mouse[0])\n",
    "            \n",
    "## Print the quantity and identity of duplicate mice\n",
    "    print(f'Number of duplicate mice: {len(duplicate_mice)}')\n",
    "    for mouse in duplicate_mice:\n",
    "        print(f'Information for duplicate mouse {mouse} will be scrubbed from the data.')\n",
    "else: print(\"There are no duplicate mice.\")"
   ]
  },
  {
   "cell_type": "code",
   "execution_count": 6,
   "metadata": {},
   "outputs": [
    {
     "name": "stdout",
     "output_type": "stream",
     "text": [
      "There are 13 rows of data concerning the duplicate mice.\n"
     ]
    }
   ],
   "source": [
    "# Optional: Get all the data for the duplicate mouse ID.\n",
    "duplicate_info = pd.DataFrame()\n",
    "if len(duplicate_mice) > 0:\n",
    "    for x in range(0,len(duplicate_mice)):\n",
    "        duplicate_info = duplicate_info.append(mouse_study.loc[mouse_study[\"Mouse ID\"] == duplicate_mice[x]])\n",
    "## Confirm number of rows\n",
    "print(f\"There are {duplicate_info.shape[0]} rows of data concerning the duplicate mice.\")"
   ]
  },
  {
   "cell_type": "code",
   "execution_count": 7,
   "metadata": {},
   "outputs": [
    {
     "name": "stdout",
     "output_type": "stream",
     "text": [
      "There are 1880 rows of data for non-duplicate mice.\n"
     ]
    }
   ],
   "source": [
    "# Create a clean DataFrame by dropping the duplicate mouse by its ID.\n",
    "if len(duplicate_mice) > 0:\n",
    "## For each mouse in the duplicate list, drop it from the dataframe\n",
    "    for mouse in duplicate_mice:\n",
    "        mouse_study = mouse_study.loc[mouse_study[\"Mouse ID\"] != mouse]\n",
    "## Confirm new number of rows\n",
    "print(f\"There are {mouse_study.shape[0]} rows of data for non-duplicate mice.\")"
   ]
  },
  {
   "cell_type": "code",
   "execution_count": 8,
   "metadata": {},
   "outputs": [
    {
     "name": "stdout",
     "output_type": "stream",
     "text": [
      "There are 248 non-duplicate mice in the study.\n"
     ]
    }
   ],
   "source": [
    "# Checking the number of mice in the clean DataFrame.\n",
    "quantity = len(mouse_study[\"Mouse ID\"].unique())\n",
    "print(f\"There are {quantity} non-duplicate mice in the study.\")"
   ]
  },
  {
   "cell_type": "markdown",
   "metadata": {},
   "source": [
    "## Summary Statistics"
   ]
  },
  {
   "cell_type": "code",
   "execution_count": 9,
   "metadata": {},
   "outputs": [
    {
     "data": {
      "text/html": [
       "<div>\n",
       "<style scoped>\n",
       "    .dataframe tbody tr th:only-of-type {\n",
       "        vertical-align: middle;\n",
       "    }\n",
       "\n",
       "    .dataframe tbody tr th {\n",
       "        vertical-align: top;\n",
       "    }\n",
       "\n",
       "    .dataframe thead th {\n",
       "        text-align: right;\n",
       "    }\n",
       "</style>\n",
       "<table border=\"1\" class=\"dataframe\">\n",
       "  <thead>\n",
       "    <tr style=\"text-align: right;\">\n",
       "      <th></th>\n",
       "      <th>Mean</th>\n",
       "      <th>Median</th>\n",
       "      <th>Variance</th>\n",
       "      <th>Standard Deviation</th>\n",
       "      <th>Standard Error</th>\n",
       "    </tr>\n",
       "    <tr>\n",
       "      <th>Drug Regimen</th>\n",
       "      <th></th>\n",
       "      <th></th>\n",
       "      <th></th>\n",
       "      <th></th>\n",
       "      <th></th>\n",
       "    </tr>\n",
       "  </thead>\n",
       "  <tbody>\n",
       "    <tr>\n",
       "      <th>Capomulin</th>\n",
       "      <td>40.675741</td>\n",
       "      <td>41.557809</td>\n",
       "      <td>24.947764</td>\n",
       "      <td>4.994774</td>\n",
       "      <td>0.329346</td>\n",
       "    </tr>\n",
       "    <tr>\n",
       "      <th>Ceftamin</th>\n",
       "      <td>52.591172</td>\n",
       "      <td>51.776157</td>\n",
       "      <td>39.290177</td>\n",
       "      <td>6.268188</td>\n",
       "      <td>0.469821</td>\n",
       "    </tr>\n",
       "    <tr>\n",
       "      <th>Infubinol</th>\n",
       "      <td>52.884795</td>\n",
       "      <td>51.820584</td>\n",
       "      <td>43.128684</td>\n",
       "      <td>6.567243</td>\n",
       "      <td>0.492236</td>\n",
       "    </tr>\n",
       "    <tr>\n",
       "      <th>Ketapril</th>\n",
       "      <td>55.235638</td>\n",
       "      <td>53.698743</td>\n",
       "      <td>68.553577</td>\n",
       "      <td>8.279709</td>\n",
       "      <td>0.603860</td>\n",
       "    </tr>\n",
       "    <tr>\n",
       "      <th>Naftisol</th>\n",
       "      <td>54.331565</td>\n",
       "      <td>52.509285</td>\n",
       "      <td>66.173479</td>\n",
       "      <td>8.134708</td>\n",
       "      <td>0.596466</td>\n",
       "    </tr>\n",
       "    <tr>\n",
       "      <th>Placebo</th>\n",
       "      <td>54.033581</td>\n",
       "      <td>52.288934</td>\n",
       "      <td>61.168083</td>\n",
       "      <td>7.821003</td>\n",
       "      <td>0.581331</td>\n",
       "    </tr>\n",
       "    <tr>\n",
       "      <th>Propriva</th>\n",
       "      <td>52.320930</td>\n",
       "      <td>50.446266</td>\n",
       "      <td>43.852013</td>\n",
       "      <td>6.622085</td>\n",
       "      <td>0.544332</td>\n",
       "    </tr>\n",
       "    <tr>\n",
       "      <th>Ramicane</th>\n",
       "      <td>40.216745</td>\n",
       "      <td>40.673236</td>\n",
       "      <td>23.486704</td>\n",
       "      <td>4.846308</td>\n",
       "      <td>0.320955</td>\n",
       "    </tr>\n",
       "    <tr>\n",
       "      <th>Stelasyn</th>\n",
       "      <td>54.233149</td>\n",
       "      <td>52.431737</td>\n",
       "      <td>59.450562</td>\n",
       "      <td>7.710419</td>\n",
       "      <td>0.573111</td>\n",
       "    </tr>\n",
       "    <tr>\n",
       "      <th>Zoniferol</th>\n",
       "      <td>53.236507</td>\n",
       "      <td>51.818479</td>\n",
       "      <td>48.533355</td>\n",
       "      <td>6.966589</td>\n",
       "      <td>0.516398</td>\n",
       "    </tr>\n",
       "  </tbody>\n",
       "</table>\n",
       "</div>"
      ],
      "text/plain": [
       "                   Mean     Median   Variance  Standard Deviation  \\\n",
       "Drug Regimen                                                        \n",
       "Capomulin     40.675741  41.557809  24.947764            4.994774   \n",
       "Ceftamin      52.591172  51.776157  39.290177            6.268188   \n",
       "Infubinol     52.884795  51.820584  43.128684            6.567243   \n",
       "Ketapril      55.235638  53.698743  68.553577            8.279709   \n",
       "Naftisol      54.331565  52.509285  66.173479            8.134708   \n",
       "Placebo       54.033581  52.288934  61.168083            7.821003   \n",
       "Propriva      52.320930  50.446266  43.852013            6.622085   \n",
       "Ramicane      40.216745  40.673236  23.486704            4.846308   \n",
       "Stelasyn      54.233149  52.431737  59.450562            7.710419   \n",
       "Zoniferol     53.236507  51.818479  48.533355            6.966589   \n",
       "\n",
       "              Standard Error  \n",
       "Drug Regimen                  \n",
       "Capomulin           0.329346  \n",
       "Ceftamin            0.469821  \n",
       "Infubinol           0.492236  \n",
       "Ketapril            0.603860  \n",
       "Naftisol            0.596466  \n",
       "Placebo             0.581331  \n",
       "Propriva            0.544332  \n",
       "Ramicane            0.320955  \n",
       "Stelasyn            0.573111  \n",
       "Zoniferol           0.516398  "
      ]
     },
     "execution_count": 9,
     "metadata": {},
     "output_type": "execute_result"
    }
   ],
   "source": [
    "# Generate a summary statistics table of\n",
    "    # mean, median, variance, standard deviation, and SEM of the tumor volume for each regimen\n",
    "# This method is the most straighforward,\n",
    "    # creating multiple series and putting them all together at the end.\n",
    "## For each Regimen,\n",
    "regimen_summary = mouse_study.groupby(\"Drug Regimen\")\n",
    "    ## Provide the Summary Information for Tumor Volume\n",
    "regimen_stats = pd.DataFrame({\"Mean\":regimen_summary[\"Tumor Volume (mm3)\"].mean(),\n",
    "                                  \"Median\":regimen_summary[\"Tumor Volume (mm3)\"].median(),\n",
    "                                  \"Variance\":regimen_summary[\"Tumor Volume (mm3)\"].var(),\n",
    "                                  \"Standard Deviation\":regimen_summary[\"Tumor Volume (mm3)\"].std(),\n",
    "                                  \"Standard Error\":regimen_summary[\"Tumor Volume (mm3)\"].sem(),})\n",
    "regimen_stats"
   ]
  },
  {
   "cell_type": "code",
   "execution_count": 10,
   "metadata": {},
   "outputs": [
    {
     "data": {
      "text/html": [
       "<div>\n",
       "<style scoped>\n",
       "    .dataframe tbody tr th:only-of-type {\n",
       "        vertical-align: middle;\n",
       "    }\n",
       "\n",
       "    .dataframe tbody tr th {\n",
       "        vertical-align: top;\n",
       "    }\n",
       "\n",
       "    .dataframe thead tr th {\n",
       "        text-align: left;\n",
       "    }\n",
       "\n",
       "    .dataframe thead tr:last-of-type th {\n",
       "        text-align: right;\n",
       "    }\n",
       "</style>\n",
       "<table border=\"1\" class=\"dataframe\">\n",
       "  <thead>\n",
       "    <tr>\n",
       "      <th></th>\n",
       "      <th colspan=\"5\" halign=\"left\">Tumor Volume (mm3)</th>\n",
       "    </tr>\n",
       "    <tr>\n",
       "      <th></th>\n",
       "      <th>mean</th>\n",
       "      <th>median</th>\n",
       "      <th>var</th>\n",
       "      <th>std</th>\n",
       "      <th>sem</th>\n",
       "    </tr>\n",
       "    <tr>\n",
       "      <th>Drug Regimen</th>\n",
       "      <th></th>\n",
       "      <th></th>\n",
       "      <th></th>\n",
       "      <th></th>\n",
       "      <th></th>\n",
       "    </tr>\n",
       "  </thead>\n",
       "  <tbody>\n",
       "    <tr>\n",
       "      <th>Capomulin</th>\n",
       "      <td>40.675741</td>\n",
       "      <td>41.557809</td>\n",
       "      <td>24.947764</td>\n",
       "      <td>4.994774</td>\n",
       "      <td>0.329346</td>\n",
       "    </tr>\n",
       "    <tr>\n",
       "      <th>Ceftamin</th>\n",
       "      <td>52.591172</td>\n",
       "      <td>51.776157</td>\n",
       "      <td>39.290177</td>\n",
       "      <td>6.268188</td>\n",
       "      <td>0.469821</td>\n",
       "    </tr>\n",
       "    <tr>\n",
       "      <th>Infubinol</th>\n",
       "      <td>52.884795</td>\n",
       "      <td>51.820584</td>\n",
       "      <td>43.128684</td>\n",
       "      <td>6.567243</td>\n",
       "      <td>0.492236</td>\n",
       "    </tr>\n",
       "    <tr>\n",
       "      <th>Ketapril</th>\n",
       "      <td>55.235638</td>\n",
       "      <td>53.698743</td>\n",
       "      <td>68.553577</td>\n",
       "      <td>8.279709</td>\n",
       "      <td>0.603860</td>\n",
       "    </tr>\n",
       "    <tr>\n",
       "      <th>Naftisol</th>\n",
       "      <td>54.331565</td>\n",
       "      <td>52.509285</td>\n",
       "      <td>66.173479</td>\n",
       "      <td>8.134708</td>\n",
       "      <td>0.596466</td>\n",
       "    </tr>\n",
       "    <tr>\n",
       "      <th>Placebo</th>\n",
       "      <td>54.033581</td>\n",
       "      <td>52.288934</td>\n",
       "      <td>61.168083</td>\n",
       "      <td>7.821003</td>\n",
       "      <td>0.581331</td>\n",
       "    </tr>\n",
       "    <tr>\n",
       "      <th>Propriva</th>\n",
       "      <td>52.320930</td>\n",
       "      <td>50.446266</td>\n",
       "      <td>43.852013</td>\n",
       "      <td>6.622085</td>\n",
       "      <td>0.544332</td>\n",
       "    </tr>\n",
       "    <tr>\n",
       "      <th>Ramicane</th>\n",
       "      <td>40.216745</td>\n",
       "      <td>40.673236</td>\n",
       "      <td>23.486704</td>\n",
       "      <td>4.846308</td>\n",
       "      <td>0.320955</td>\n",
       "    </tr>\n",
       "    <tr>\n",
       "      <th>Stelasyn</th>\n",
       "      <td>54.233149</td>\n",
       "      <td>52.431737</td>\n",
       "      <td>59.450562</td>\n",
       "      <td>7.710419</td>\n",
       "      <td>0.573111</td>\n",
       "    </tr>\n",
       "    <tr>\n",
       "      <th>Zoniferol</th>\n",
       "      <td>53.236507</td>\n",
       "      <td>51.818479</td>\n",
       "      <td>48.533355</td>\n",
       "      <td>6.966589</td>\n",
       "      <td>0.516398</td>\n",
       "    </tr>\n",
       "  </tbody>\n",
       "</table>\n",
       "</div>"
      ],
      "text/plain": [
       "             Tumor Volume (mm3)                                          \n",
       "                           mean     median        var       std       sem\n",
       "Drug Regimen                                                             \n",
       "Capomulin             40.675741  41.557809  24.947764  4.994774  0.329346\n",
       "Ceftamin              52.591172  51.776157  39.290177  6.268188  0.469821\n",
       "Infubinol             52.884795  51.820584  43.128684  6.567243  0.492236\n",
       "Ketapril              55.235638  53.698743  68.553577  8.279709  0.603860\n",
       "Naftisol              54.331565  52.509285  66.173479  8.134708  0.596466\n",
       "Placebo               54.033581  52.288934  61.168083  7.821003  0.581331\n",
       "Propriva              52.320930  50.446266  43.852013  6.622085  0.544332\n",
       "Ramicane              40.216745  40.673236  23.486704  4.846308  0.320955\n",
       "Stelasyn              54.233149  52.431737  59.450562  7.710419  0.573111\n",
       "Zoniferol             53.236507  51.818479  48.533355  6.966589  0.516398"
      ]
     },
     "execution_count": 10,
     "metadata": {},
     "output_type": "execute_result"
    }
   ],
   "source": [
    "# Generate a summary statistics table of\n",
    "    # mean, median, variance, standard deviation, and SEM of the tumor volume for each regimen\n",
    "# This method produces everything in a single groupby function\n",
    "regimen_summary = mouse_study.groupby(\"Drug Regimen\").agg \\\n",
    "                ({\"Tumor Volume (mm3)\" : ['mean','median','var','std','sem']})\n",
    "regimen_summary"
   ]
  },
  {
   "cell_type": "markdown",
   "metadata": {},
   "source": [
    "## Bar and Pie Charts"
   ]
  },
  {
   "cell_type": "code",
   "execution_count": 11,
   "metadata": {},
   "outputs": [
    {
     "data": {
      "image/png": "[encoded data removed]",
      "text/plain": [
       "<Figure size 432x288 with 1 Axes>"
      ]
     },
     "metadata": {
      "needs_background": "light"
     },
     "output_type": "display_data"
    }
   ],
   "source": [
    "# Generate a bar plot showing the total number of mice for each treatment\n",
    "    # throughout the course of the study using pandas.\n",
    "## For each Regimen,\n",
    "regimen_data_gb = mouse_study.groupby(\"Drug Regimen\").count()\n",
    "    ## Provide the count of Timepoints\n",
    "regimen_data = pd.DataFrame({\"Number of Datapoints\":regimen_data_gb[\"Timepoint\"]})\n",
    "\n",
    "regimen_data.plot(kind=\"bar\", legend=None, title=\"Number of Data Points from Each Drug Regimen\")\\\n",
    "    .set_ylabel(\"Number of Points\")\n",
    "plt.show()"
   ]
  },
  {
   "cell_type": "code",
   "execution_count": 12,
   "metadata": {},
   "outputs": [
    {
     "data": {
      "image/png": "[encoded data removed]",
      "text/plain": [
       "<Figure size 432x288 with 1 Axes>"
      ]
     },
     "metadata": {
      "needs_background": "light"
     },
     "output_type": "display_data"
    }
   ],
   "source": [
    "# Generate a bar plot showing the total number of mice for each treatment\n",
    "    # throughout the course of the study using pyplot.\n",
    "plt.bar(regimen_stats.index, regimen_data[\"Number of Datapoints\"], align=\"center\", width=0.5)\n",
    "plt.xticks(rotation=\"vertical\")\n",
    "plt.title(\"Number of Data Points from Each Drug Regimen\")\n",
    "plt.xlabel(\"Drug Regimen\")\n",
    "plt.ylabel(\"Number of Data Points\")\n",
    "plt.show()"
   ]
  },
  {
   "cell_type": "code",
   "execution_count": 13,
   "metadata": {},
   "outputs": [
    {
     "data": {
      "image/png": "[encoded data removed]",
      "text/plain": [
       "<Figure size 432x288 with 1 Axes>"
      ]
     },
     "metadata": {},
     "output_type": "display_data"
    }
   ],
   "source": [
    "# Generate a pie plot showing the distribution of female versus male mice using pandas\n",
    "## For each sex,\n",
    "sex_dist_gb = mouse_study.groupby(\"Sex\").count()\n",
    "    ## Provide the count of mice\n",
    "sex_dist = pd.DataFrame({\"Number of Mice\":sex_dist_gb[\"Mouse ID\"]})\n",
    "sex_dist.plot(kind=\"pie\",y=\"Number of Mice\", legend=None, title=\"Sex Distribution of Mice in Tests\",\\\n",
    "              autopct=\"%1.1f%%\").set_ylabel(\"Sex\")\n",
    "plt.show()"
   ]
  },
  {
   "cell_type": "code",
   "execution_count": 14,
   "metadata": {},
   "outputs": [
    {
     "data": {
      "image/png": "[encoded data removed]",
      "text/plain": [
       "<Figure size 432x288 with 1 Axes>"
      ]
     },
     "metadata": {},
     "output_type": "display_data"
    }
   ],
   "source": [
    "# Generate a pie plot showing the distribution of female versus male mice using pyplot\n",
    "plt.pie(sex_dist[\"Number of Mice\"],labels=sex_dist.index.values,autopct=\"%1.1f%%\")\n",
    "plt.title(\"Sex Distribution of Mice in Tests\")\n",
    "plt.ylabel(\"Sex\")\n",
    "plt.show()"
   ]
  },
  {
   "cell_type": "markdown",
   "metadata": {},
   "source": [
    "## Quartiles, Outliers and Boxplots"
   ]
  },
  {
   "cell_type": "code",
   "execution_count": 15,
   "metadata": {},
   "outputs": [],
   "source": [
    "# Calculate the final tumor volume of each mouse across four of the treatment regimens:  \n",
    "    # Capomulin, Ramicane, Infubinol, and Ceftamin\n",
    "\n",
    "# Start by getting the last (greatest) timepoint for each mouse\n",
    "maxtime_mice_gb = mouse_study.groupby(\"Mouse ID\").max()\n",
    "maxtime_mice = pd.DataFrame({\"Drug Regimen\":maxtime_mice_gb[\"Drug Regimen\"],\n",
    "                             \"Timepoint\":maxtime_mice_gb[\"Timepoint\"]})\n",
    "# Merge this group df with the original dataframe to get the tumor volume at the last timepoint\n",
    "maxtime_data = pd.merge(maxtime_mice,\n",
    "                        mouse_study[[\"Mouse ID\",\"Drug Regimen\",\"Timepoint\",\"Tumor Volume (mm3)\"]],\n",
    "                        on=[\"Timepoint\",\"Drug Regimen\",\"Mouse ID\"], how=\"left\")"
   ]
  },
  {
   "cell_type": "code",
   "execution_count": 16,
   "metadata": {},
   "outputs": [
    {
     "data": {
      "text/html": [
       "<div>\n",
       "<style scoped>\n",
       "    .dataframe tbody tr th:only-of-type {\n",
       "        vertical-align: middle;\n",
       "    }\n",
       "\n",
       "    .dataframe tbody tr th {\n",
       "        vertical-align: top;\n",
       "    }\n",
       "\n",
       "    .dataframe thead th {\n",
       "        text-align: right;\n",
       "    }\n",
       "</style>\n",
       "<table border=\"1\" class=\"dataframe\">\n",
       "  <thead>\n",
       "    <tr style=\"text-align: right;\">\n",
       "      <th></th>\n",
       "      <th>Drug Regimen</th>\n",
       "      <th>Lower Quartile</th>\n",
       "      <th>Upper Quartile</th>\n",
       "      <th>IQR</th>\n",
       "      <th>Number of Outliers</th>\n",
       "      <th>Outliers</th>\n",
       "    </tr>\n",
       "  </thead>\n",
       "  <tbody>\n",
       "    <tr>\n",
       "      <th>0</th>\n",
       "      <td>Capomulin</td>\n",
       "      <td>32.377357</td>\n",
       "      <td>40.159220</td>\n",
       "      <td>7.781863</td>\n",
       "      <td>0</td>\n",
       "      <td>None</td>\n",
       "    </tr>\n",
       "    <tr>\n",
       "      <th>1</th>\n",
       "      <td>Ramicane</td>\n",
       "      <td>31.560470</td>\n",
       "      <td>40.659006</td>\n",
       "      <td>9.098537</td>\n",
       "      <td>0</td>\n",
       "      <td>None</td>\n",
       "    </tr>\n",
       "    <tr>\n",
       "      <th>2</th>\n",
       "      <td>Infubinol</td>\n",
       "      <td>54.048608</td>\n",
       "      <td>65.525743</td>\n",
       "      <td>11.477135</td>\n",
       "      <td>1</td>\n",
       "      <td>[36.3213458]</td>\n",
       "    </tr>\n",
       "    <tr>\n",
       "      <th>3</th>\n",
       "      <td>Ceftamin</td>\n",
       "      <td>48.722078</td>\n",
       "      <td>64.299830</td>\n",
       "      <td>15.577752</td>\n",
       "      <td>0</td>\n",
       "      <td>None</td>\n",
       "    </tr>\n",
       "  </tbody>\n",
       "</table>\n",
       "</div>"
      ],
      "text/plain": [
       "  Drug Regimen  Lower Quartile  Upper Quartile        IQR  Number of Outliers  \\\n",
       "0    Capomulin       32.377357       40.159220   7.781863                   0   \n",
       "1     Ramicane       31.560470       40.659006   9.098537                   0   \n",
       "2    Infubinol       54.048608       65.525743  11.477135                   1   \n",
       "3     Ceftamin       48.722078       64.299830  15.577752                   0   \n",
       "\n",
       "       Outliers  \n",
       "0          None  \n",
       "1          None  \n",
       "2  [36.3213458]  \n",
       "3          None  "
      ]
     },
     "execution_count": 16,
     "metadata": {},
     "output_type": "execute_result"
    }
   ],
   "source": [
    "# Put treatments into a list for for loop (and later for plot labels)\n",
    "treatments = [\"Capomulin\",\"Ramicane\",\"Infubinol\",\"Ceftamin\"]\n",
    "\n",
    "# Create empty list to fill with tumor vol data (for plotting)\n",
    "## Create set of volumes for individual drug analysis\n",
    "volumes = []\n",
    "## Append each set of volumes to a list for plotting all drugs\n",
    "volumes_list = []\n",
    "## List of quartiles and IQRs for each drug\n",
    "lowerq = []\n",
    "upperq = []\n",
    "iqr = []\n",
    "## max and min volumes to compare to upper & Lower threshold for outliers\n",
    "min_vol = []\n",
    "max_vol = []\n",
    "lowers = []\n",
    "uppers = []\n",
    "## count the number of outliers for each drug\n",
    "outlier_qty = []\n",
    "## save outlier values\n",
    "outlier_list = []\n",
    "\n",
    "# Calculate the IQR and quantitatively determine if there are any potential outliers. \n",
    "    # Locate the rows which contain mice on each drug and get the tumor volumes\n",
    "    # add subset \n",
    "    # Determine outliers using upper and lower bounds\n",
    "\n",
    "for x in range(0,len(treatments)):\n",
    "## For each treatment specified,\n",
    "    volumes = maxtime_data.loc[maxtime_data[\"Drug Regimen\"] == treatments[x],\"Tumor Volume (mm3)\"]\n",
    "    ## Place final volume from each mouse treated in a single list\n",
    "    volumes_list.append(volumes)\n",
    "    ## Find the minimum and maximum values of the list and append to the master list\n",
    "    min_vol.append(volumes.min())\n",
    "    max_vol.append(volumes.max())\n",
    "    ## Find the quartiles and append them to the master lists\n",
    "    quartiles = volumes.quantile([.25,.5,.75])\n",
    "    lowerq.append(quartiles[.25])\n",
    "    upperq.append(quartiles[.75])\n",
    "    ## Find the IQR and bounds for outliers and append to the master lists\n",
    "    calc_iqr = quartiles[.75]-quartiles[.25]\n",
    "    iqr.append(calc_iqr)\n",
    "    lower_bound = (quartiles[.25])-(calc_iqr*1.5)\n",
    "    lowers.append(lower_bound)\n",
    "    upper_bound = (quartiles[.75])+(calc_iqr*1.5)\n",
    "    uppers.append(upper_bound)\n",
    "    ## Reset the outlier count and outlier values counts\n",
    "    outliers = 0\n",
    "    outlier_values = []\n",
    "    ## Find outliers by comparing to upper and lower bounds\n",
    "    for volume in volumes:\n",
    "        if volume > upper_bound or volume < lower_bound :\n",
    "    ## Add to the list of values and increase the count\n",
    "            outlier_values.append(round(volume,7))\n",
    "            outliers += 1\n",
    "    ## Put the list in the master list\n",
    "    if len(outlier_values) > 0:\n",
    "        outlier_list.append(outlier_values)\n",
    "    ## If none found, state None.\n",
    "    else:\n",
    "        outlier_list.append(\"None\")\n",
    "    ## Put the quantity of outliers in the list.\n",
    "    outlier_qty.append(outliers)\n",
    "\n",
    "## Basic information\n",
    "treatments_quartiles = pd.DataFrame({\"Drug Regimen\":treatments,\"Lower Quartile\":lowerq,\n",
    "                                     \"Upper Quartile\":upperq,\"IQR\":iqr,\n",
    "                                     \"Number of Outliers\":outlier_qty,\"Outliers\":outlier_list})\n",
    "treatments_quartiles"
   ]
  },
  {
   "cell_type": "code",
   "execution_count": 17,
   "metadata": {},
   "outputs": [
    {
     "data": {
      "text/html": [
       "<div>\n",
       "<style scoped>\n",
       "    .dataframe tbody tr th:only-of-type {\n",
       "        vertical-align: middle;\n",
       "    }\n",
       "\n",
       "    .dataframe tbody tr th {\n",
       "        vertical-align: top;\n",
       "    }\n",
       "\n",
       "    .dataframe thead th {\n",
       "        text-align: right;\n",
       "    }\n",
       "</style>\n",
       "<table border=\"1\" class=\"dataframe\">\n",
       "  <thead>\n",
       "    <tr style=\"text-align: right;\">\n",
       "      <th></th>\n",
       "      <th>Drug Regimen</th>\n",
       "      <th>Outliers fall below</th>\n",
       "      <th>Minimum Volume from Tests</th>\n",
       "      <th>Maximum Volume from Tests</th>\n",
       "      <th>Outliers fall above</th>\n",
       "      <th>Number of Outliers</th>\n",
       "    </tr>\n",
       "  </thead>\n",
       "  <tbody>\n",
       "    <tr>\n",
       "      <th>0</th>\n",
       "      <td>Capomulin</td>\n",
       "      <td>20.704562</td>\n",
       "      <td>23.343598</td>\n",
       "      <td>47.685963</td>\n",
       "      <td>51.832015</td>\n",
       "      <td>0</td>\n",
       "    </tr>\n",
       "    <tr>\n",
       "      <th>1</th>\n",
       "      <td>Ramicane</td>\n",
       "      <td>17.912664</td>\n",
       "      <td>22.050126</td>\n",
       "      <td>45.220869</td>\n",
       "      <td>54.306811</td>\n",
       "      <td>0</td>\n",
       "    </tr>\n",
       "    <tr>\n",
       "      <th>2</th>\n",
       "      <td>Infubinol</td>\n",
       "      <td>36.832905</td>\n",
       "      <td>36.321346</td>\n",
       "      <td>72.226731</td>\n",
       "      <td>82.741446</td>\n",
       "      <td>1</td>\n",
       "    </tr>\n",
       "    <tr>\n",
       "      <th>3</th>\n",
       "      <td>Ceftamin</td>\n",
       "      <td>25.355450</td>\n",
       "      <td>45.000000</td>\n",
       "      <td>68.923185</td>\n",
       "      <td>87.666458</td>\n",
       "      <td>0</td>\n",
       "    </tr>\n",
       "  </tbody>\n",
       "</table>\n",
       "</div>"
      ],
      "text/plain": [
       "  Drug Regimen  Outliers fall below  Minimum Volume from Tests  \\\n",
       "0    Capomulin            20.704562                  23.343598   \n",
       "1     Ramicane            17.912664                  22.050126   \n",
       "2    Infubinol            36.832905                  36.321346   \n",
       "3     Ceftamin            25.355450                  45.000000   \n",
       "\n",
       "   Maximum Volume from Tests  Outliers fall above  Number of Outliers  \n",
       "0                  47.685963            51.832015                   0  \n",
       "1                  45.220869            54.306811                   0  \n",
       "2                  72.226731            82.741446                   1  \n",
       "3                  68.923185            87.666458                   0  "
      ]
     },
     "execution_count": 17,
     "metadata": {},
     "output_type": "execute_result"
    }
   ],
   "source": [
    "## Visually spotcheck the minimum value, lower/upper thresholds for outliers, and the maximum value.\n",
    "treatments_outliers = pd.DataFrame({\"Drug Regimen\":treatments,\n",
    "                                # Compare maximum/minimum and the IQR*1.5\n",
    "                                \"Outliers fall below\":lowers,\"Minimum Volume from Tests\":min_vol,\n",
    "                                \"Maximum Volume from Tests\":max_vol,\"Outliers fall above\":uppers,\n",
    "                                # Show the count of such\n",
    "                                \"Number of Outliers\":outlier_qty})\n",
    "treatments_outliers"
   ]
  },
  {
   "cell_type": "code",
   "execution_count": 18,
   "metadata": {},
   "outputs": [
    {
     "data": {
      "image/png": "[encoded data removed]",
      "text/plain": [
       "<Figure size 432x288 with 1 Axes>"
      ]
     },
     "metadata": {
      "needs_background": "light"
     },
     "output_type": "display_data"
    }
   ],
   "source": [
    "## Create distinct marker style for outliers\n",
    "purplestar = dict(markerfacecolor='purple',marker='*',ms=12)\n",
    "## Use the list of lists for boxplot comparison\n",
    "plt.boxplot(volumes_list, flierprops=purplestar)\n",
    "plt.xlabel('Drug Regimen')\n",
    "plt.ylabel('Tumor Volume (mm3)')\n",
    "plt.xticks(ticks=range(1,len(treatments)+1),labels=treatments)\n",
    "plt.title(\"Average Tumor Volumes per Drug Regimen\")\n",
    "plt.show()"
   ]
  },
  {
   "cell_type": "markdown",
   "metadata": {},
   "source": [
    "## Line and Scatter Plots"
   ]
  },
  {
   "cell_type": "code",
   "execution_count": 19,
   "metadata": {},
   "outputs": [],
   "source": [
    "# Generate a line plot of time point versus tumor volume for a mouse treated with Capomulin\n",
    "choose_drug = \"Capomulin\"\n",
    "\n",
    "## Isolate the information for the chosen drug\n",
    "drug_data = mouse_study.loc[mouse_study[\"Drug Regimen\"] == choose_drug]\n",
    "## Narrow down all the mice\n",
    "drug_mice = drug_data[\"Mouse ID\"].unique()\n",
    "\n",
    "## Choose one mouse from the list\n",
    "import random\n",
    "m = (random.randint(0, len(drug_mice)-1))\n",
    "## Bring in the information for that mouse only\n",
    "drug_mouse = mouse_study.loc[mouse_study[\"Mouse ID\"] == drug_mice[m]]"
   ]
  },
  {
   "cell_type": "code",
   "execution_count": 20,
   "metadata": {},
   "outputs": [
    {
     "data": {
      "image/png": "[encoded data removed]",
      "text/plain": [
       "<Figure size 432x288 with 1 Axes>"
      ]
     },
     "metadata": {
      "needs_background": "light"
     },
     "output_type": "display_data"
    }
   ],
   "source": [
    "## Create the plot of volume y over time x\n",
    "plt.plot(drug_mouse[\"Timepoint\"],drug_mouse[\"Tumor Volume (mm3)\"])\n",
    "plt.title(f\"Mouse {drug_mice[m]} Tumor Volume Over Time (Drug Regimen: {choose_drug})\")\n",
    "plt.xlabel(\"Timepoint\")\n",
    "plt.ylabel(\"Tumor Volume (mm3)\")\n",
    "plt.show()"
   ]
  },
  {
   "cell_type": "code",
   "execution_count": 21,
   "metadata": {},
   "outputs": [
    {
     "data": {
      "image/png": "[encoded data removed]",
      "text/plain": [
       "<Figure size 432x288 with 1 Axes>"
      ]
     },
     "metadata": {
      "needs_background": "light"
     },
     "output_type": "display_data"
    }
   ],
   "source": [
    "# Generate a scatter plot of mouse weight versus average tumor volume for the Capomulin regimen\n",
    "\n",
    "## Retrieve the information for the chosen drug and group by mouse\n",
    "drug_avg = drug_data.groupby(\"Mouse ID\").mean()\n",
    "\n",
    "## Create plot of tumor volume y over weight x\n",
    "plt.scatter(drug_avg[\"Weight (g)\"],drug_avg[\"Tumor Volume (mm3)\"],alpha=0.8,edgecolors=\"black\")\n",
    "plt.xlabel(\"Weight in grams\")\n",
    "plt.ylabel(\"Tumor volume in cubic millimeters\")\n",
    "plt.title(f\"Mouse Weight vs Average Tumor Volume (Drug Regimen: {choose_drug})\")\n",
    "plt.show()"
   ]
  },
  {
   "cell_type": "markdown",
   "metadata": {},
   "source": [
    "## Correlation and Regression"
   ]
  },
  {
   "cell_type": "code",
   "execution_count": 22,
   "metadata": {},
   "outputs": [
    {
     "name": "stdout",
     "output_type": "stream",
     "text": [
      "The correlation between weight and average tumor volume for the Capomulin regimen is 0.84.\n"
     ]
    }
   ],
   "source": [
    "# Calculate the correlation coefficient and linear regression model \n",
    "# for mouse weight and average tumor volume for the Capomulin regimen\n",
    "correlation = st.pearsonr(drug_avg[\"Weight (g)\"],drug_avg[\"Tumor Volume (mm3)\"])\n",
    "\n",
    "## Print the result\n",
    "print(f'The correlation between weight and average tumor volume for the \\\n",
    "{choose_drug} regimen is {round(correlation[0],2)}.')"
   ]
  },
  {
   "cell_type": "code",
   "execution_count": 23,
   "metadata": {},
   "outputs": [
    {
     "data": {
      "image/png": "[encoded data removed]",
      "text/plain": [
       "<Figure size 432x288 with 1 Axes>"
      ]
     },
     "metadata": {
      "needs_background": "light"
     },
     "output_type": "display_data"
    }
   ],
   "source": [
    "## Import linregress to create and plot line of regression\n",
    "from scipy.stats import linregress\n",
    "\n",
    "## Define the values for the regression calculation\n",
    "x_values = drug_avg[\"Weight (g)\"]\n",
    "y_values = drug_avg[\"Tumor Volume (mm3)\"]\n",
    "(slope, intercept, rvalue, pvalue, stderr) = linregress(x_values, y_values)\n",
    "\n",
    "## Calculate the formula of the line\n",
    "regress_values = x_values * slope + intercept\n",
    "line_eq = \"y = \" + str(round(slope,2)) + \"x + \" + str(round(intercept,2))\n",
    "\n",
    "## Create plot of tumor volume y over weight x\n",
    "plt.scatter(x_values,y_values,alpha=0.8,edgecolors=\"black\")\n",
    "plt.plot(x_values,regress_values,\"r-\")\n",
    "plt.xlabel(\"Weight in grams\")\n",
    "plt.ylabel(\"Tumor volume in cubic millimeters\")\n",
    "plt.title(f\"Mouse Weight vs Average Tumor Volume (Drug Regimen: {choose_drug})\")\n",
    "\n",
    "## Place the line equation in the regression map\n",
    "plt.annotate(line_eq,(20,35),fontsize=14,color=\"red\")\n",
    "plt.show()"
   ]
  }
 ],
 "metadata": {
  "kernelspec": {
   "display_name": "Python 3",
   "language": "python",
   "name": "python3"
  },
  "language_info": {
   "codemirror_mode": {
    "name": "ipython",
    "version": 3
   },
   "file_extension": ".py",
   "mimetype": "text/x-python",
   "name": "python",
   "nbconvert_exporter": "python",
   "pygments_lexer": "ipython3",
   "version": "3.6.10"
  }
 },
 "nbformat": 4,
 "nbformat_minor": 4
}
